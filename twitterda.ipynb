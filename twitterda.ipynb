{
 "cells": [
  {
   "cell_type": "code",
   "execution_count": 1,
   "metadata": {},
   "outputs": [],
   "source": [
    "import tweepy\n",
    "consumer_key=\"AOFnF2HXhlqM2PAZgISwd9slx\"\n",
    "consumer_secret=\"6HEuqqAc27nYu0EKzcewyCsQKYW2xTdMIAFRYSrYUVGVuX5tYF\"\n",
    "access_token=\"845491398375718912-0lr9aoJoE2Yd0oHcjbrInp95oH3zrSL\"\n",
    "access_token_secret=\"aD7KDIp4kP6OmIhBwZEhKKyyJYUgmsfpALO3ntzBZwHNc\""
   ]
  },
  {
   "cell_type": "code",
   "execution_count": 2,
   "metadata": {},
   "outputs": [],
   "source": [
    "import tweepy\n",
    "consumer_key=\"AOFnF2HXhlqM2PAZgISwd9slx\"\n",
    "consumer_secret=\"6HEuqqAc27nYu0EKzcewyCsQKYW2xTdMIAFRYSrYUVGVuX5tYF\"\n",
    "access_token=\"845491398375718912-0lr9aoJoE2Yd0oHcjbrInp95oH3zrSL\"\n",
    "access_token_secret=\"aD7KDIp4kP6OmIhBwZEhKKyyJYUgmsfpALO3ntzBZwHNc\""
   ]
  },
  {
   "cell_type": "code",
   "execution_count": 3,
   "metadata": {},
   "outputs": [],
   "source": [
    "auth=tweepy.OAuthHandler(consumer_key,consumer_secret)"
   ]
  },
  {
   "cell_type": "code",
   "execution_count": 4,
   "metadata": {},
   "outputs": [],
   "source": [
    "auth.set_access_token(access_token,access_token_secret)"
   ]
  },
  {
   "cell_type": "code",
   "execution_count": 5,
   "metadata": {},
   "outputs": [],
   "source": [
    "api=tweepy.API(auth)"
   ]
  },
  {
   "cell_type": "code",
   "execution_count": 6,
   "metadata": {},
   "outputs": [],
   "source": [
    "query=\"Rohit sharma\""
   ]
  },
  {
   "cell_type": "code",
   "execution_count": 7,
   "metadata": {},
   "outputs": [],
   "source": [
    "language=\"en\""
   ]
  },
  {
   "cell_type": "code",
   "execution_count": 8,
   "metadata": {},
   "outputs": [],
   "source": [
    "results=api.search(q=query, lang=language)"
   ]
  },
  {
   "cell_type": "code",
   "execution_count": 9,
   "metadata": {},
   "outputs": [
    {
     "name": "stdout",
     "output_type": "stream",
     "text": [
      "TilakSherlock Tweetted: @BCCI Why not rohit sharma till now?\n",
      "CricketSaish237 Tweetted: @psm_0938 @iamvishal321 @ANOOP18660127 @BCCI If he is that good, he should play in place of KL Rahul and not Rohit Sharma\n",
      "CricketSaish237 Tweetted: @psm_0938 @BCCI Rohit Sharma scored 68 runs in Warm up match, while Vihari scored 64 runs 😂😂\n",
      "SonuYad85486631 Tweetted: RT @iamRo45_fc: Vote for who is better \n",
      "\n",
      "Retweet🔄 Rohit Sharma\n",
      "Like ❤ Virat Kohli\n",
      "\n",
      "#11YearsOfViratKohli #RohitSharma #ViratKohli https://t.…\n",
      "Hanuman28829079 Tweetted: RT @circleofcricket: Should Rohit Sharma be picked for the 1st Test against West Indies? #WIvIND https://t.co/y4uhbnEvjo\n",
      "SakethNannaka Tweetted: RT @madmax_tweetz: That's Rohit gurunath Sharma for you 😎😎.. puli 🐅🐯🤙 https://t.co/kHzmz151ht\n",
      "Kohliciousss Tweetted: Rohit sharma scored 5 centuries in world cup and fraud kohl couldn't score 1. and you guys call him greatest. Tha…… https://t.co/uuHLSyoQk7\n",
      "BeingDevilRj Tweetted: RT @BCCI: And, that will be Lunch here in Antigua. #TeamIndia 89/3. Rohit Sharma 22* &amp; Pujara 16* https://t.co/2YRepXCsMZ\n",
      "rohitraaj Tweetted: RT @GabbbarSingh: India's Cricket Captain &amp; Coach when they see Rohit Sharma batting https://t.co/sDnbyPEayE\n",
      "Nireekshanchand Tweetted: RT @SanjuRo045: Link :- \n",
      "\n",
      "https://t.co/AJRkZCsAU7\n",
      "Amitpagi1 Tweetted: RT @IAmVenturer: @ESPNcricinfo Rohit Sharma's First Double Century https://t.co/bqrvIo4Yzg\n",
      "Chaitan38445521 Tweetted: RT @iRohit45_FC: Vote for who is better \n",
      "\n",
      "Retweet🔄 Rohit Sharma\n",
      "Like ❤ Virat Kohli\n",
      "\n",
      "#11YearsOfViratKohli\n",
      "@iRohit45_FC\n",
      "#RohitSharma #ViratKo…\n",
      "YahooCricket Tweetted: Rohit Sharma: Waiting for the deluge of runs\n",
      "\n",
      "https://t.co/C0Ab9X2P46\n",
      "\n",
      "#TeamIndia #BleedBlue #RohitSharma #YahooCricket\n",
      "SubbuRathod Tweetted: RT @circleofcricket: Should Rohit Sharma be picked for the 1st Test against West Indies? #WIvIND https://t.co/y4uhbnEvjo\n",
      "Im_Arpit28 Tweetted: Rohit Sharma flop show in test cricket big religion to not a top order bating in lower order #AskSportsTak  @vikrantgupta73\n"
     ]
    }
   ],
   "source": [
    "for tweet in results:\n",
    "    print(tweet.user.screen_name,\"Tweetted:\",tweet.text)"
   ]
  },
  {
   "cell_type": "code",
   "execution_count": 11,
   "metadata": {},
   "outputs": [],
   "source": [
    "import csv\n",
    "csvfile=open('tweets.csv','a')\n",
    "csvwriter=csv.writer(csvfile)\n",
    "for tweet in tweepy.Cursor(api.search,\n",
    "                          q=\"#Mumbai\",\n",
    "                          since=\"2019-07-01\",\n",
    "                          until=\"2019-07-02\",\n",
    "                          lang=\"en\").items():\n",
    "    csvwriter.writerow([tweet.created_at,tweet.text.encode('utf-8')])\n",
    "    print(tweet.created_at,tweet.text)\n",
    "csvfile.close()"
   ]
  },
  {
   "cell_type": "code",
   "execution_count": null,
   "metadata": {},
   "outputs": [],
   "source": []
  },
  {
   "cell_type": "code",
   "execution_count": null,
   "metadata": {},
   "outputs": [],
   "source": []
  }
 ],
 "metadata": {
  "kernelspec": {
   "display_name": "Python 3",
   "language": "python",
   "name": "python3"
  },
  "language_info": {
   "codemirror_mode": {
    "name": "ipython",
    "version": 3
   },
   "file_extension": ".py",
   "mimetype": "text/x-python",
   "name": "python",
   "nbconvert_exporter": "python",
   "pygments_lexer": "ipython3",
   "version": "3.7.3"
  }
 },
 "nbformat": 4,
 "nbformat_minor": 2
}
