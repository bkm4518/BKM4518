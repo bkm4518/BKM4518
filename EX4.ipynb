{
 "cells": [
  {
   "cell_type": "code",
   "execution_count": 6,
   "metadata": {},
   "outputs": [
    {
     "ename": "ValueError",
     "evalue": "could not convert string to float: '2019-08-03T00:00:00.000,2019-08-03T00:00:00.000,1035,16,Foothill,1633,997,TRAFFIC COLLISION,,38,F,H,101,STREET,TERRA BELLA                  ST,ADELPHIA                     AV,\"{\\'longitude\\': \\'-118.3968\\', \\'latitude\\': \\'34.274\\', \\'human_address\\': \\'{\"\"address\"\": \"\"\"\", \"\"city\"\": \"\"\"\", \"\"state\"\": \"\"\"\", \"\"zip\"\": \"\"\"\"}\\'}\",18912,18,248,,1,11'",
     "output_type": "error",
     "traceback": [
      "\u001b[1;31m---------------------------------------------------------------------------\u001b[0m",
      "\u001b[1;31mValueError\u001b[0m                                Traceback (most recent call last)",
      "\u001b[1;32m<ipython-input-6-eea4c7e7fc26>\u001b[0m in \u001b[0;36m<module>\u001b[1;34m\u001b[0m\n\u001b[0;32m     10\u001b[0m \u001b[1;33m\u001b[0m\u001b[0m\n\u001b[0;32m     11\u001b[0m \u001b[1;32mimport\u001b[0m \u001b[0mnumpy\u001b[0m \u001b[1;32mas\u001b[0m \u001b[0mnp\u001b[0m\u001b[1;33m\u001b[0m\u001b[1;33m\u001b[0m\u001b[0m\n\u001b[1;32m---> 12\u001b[1;33m \u001b[0mwines\u001b[0m \u001b[1;33m=\u001b[0m \u001b[0mnp\u001b[0m\u001b[1;33m.\u001b[0m\u001b[0marray\u001b[0m\u001b[1;33m(\u001b[0m\u001b[0mwines\u001b[0m\u001b[1;33m[\u001b[0m\u001b[1;36m1\u001b[0m\u001b[1;33m:\u001b[0m\u001b[1;33m]\u001b[0m\u001b[1;33m,\u001b[0m \u001b[0mdtype\u001b[0m\u001b[1;33m=\u001b[0m\u001b[0mnp\u001b[0m\u001b[1;33m.\u001b[0m\u001b[0mfloat\u001b[0m\u001b[1;33m)\u001b[0m\u001b[1;33m\u001b[0m\u001b[1;33m\u001b[0m\u001b[0m\n\u001b[0m\u001b[0;32m     13\u001b[0m \u001b[1;33m\u001b[0m\u001b[0m\n",
      "\u001b[1;31mValueError\u001b[0m: could not convert string to float: '2019-08-03T00:00:00.000,2019-08-03T00:00:00.000,1035,16,Foothill,1633,997,TRAFFIC COLLISION,,38,F,H,101,STREET,TERRA BELLA                  ST,ADELPHIA                     AV,\"{\\'longitude\\': \\'-118.3968\\', \\'latitude\\': \\'34.274\\', \\'human_address\\': \\'{\"\"address\"\": \"\"\"\", \"\"city\"\": \"\"\"\", \"\"state\"\": \"\"\"\", \"\"zip\"\": \"\"\"\"}\\'}\",18912,18,248,,1,11'"
     ]
    }
   ],
   "source": [
    "from sklearn import preprocessing\n",
    "import numpy as np\n",
    "import pandas as pd\n",
    "import numpy as np\n",
    "import statistics\n",
    "from scipy import stats\n",
    "import csv\n",
    "with open(\"C:\\\\Users\\\\bharvath\\\\Downloads\\\\la.csv\", 'r') as f:\n",
    "    wines = list(csv.reader(f, delimiter=\";\"))\n",
    "\n",
    "import numpy as np\n",
    "wines = np.array(wines[1:], dtype=np.float)\n",
    "    \n"
   ]
  },
  {
   "cell_type": "code",
   "execution_count": null,
   "metadata": {},
   "outputs": [],
   "source": [
    "\n",
    "\n"
   ]
  }
 ],
 "metadata": {
  "kernelspec": {
   "display_name": "Python 3",
   "language": "python",
   "name": "python3"
  },
  "language_info": {
   "codemirror_mode": {
    "name": "ipython",
    "version": 3
   },
   "file_extension": ".py",
   "mimetype": "text/x-python",
   "name": "python",
   "nbconvert_exporter": "python",
   "pygments_lexer": "ipython3",
   "version": "3.7.3"
  }
 },
 "nbformat": 4,
 "nbformat_minor": 2
}
